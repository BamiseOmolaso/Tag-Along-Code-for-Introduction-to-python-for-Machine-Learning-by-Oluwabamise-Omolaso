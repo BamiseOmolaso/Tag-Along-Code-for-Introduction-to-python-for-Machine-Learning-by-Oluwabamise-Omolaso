{
 "cells": [
  {
   "cell_type": "code",
   "execution_count": 1,
   "id": "600cc0f1",
   "metadata": {},
   "outputs": [],
   "source": [
    "import numpy as np \n",
    "import pandas as pd\n",
    "import matplotlib.pyplot as plt\n",
    "import seaborn as sns\n",
    "%matplotlib inline"
   ]
  },
  {
   "cell_type": "code",
   "execution_count": 2,
   "id": "8cc041c9",
   "metadata": {},
   "outputs": [
    {
     "data": {
      "text/html": [
       "<div>\n",
       "<style scoped>\n",
       "    .dataframe tbody tr th:only-of-type {\n",
       "        vertical-align: middle;\n",
       "    }\n",
       "\n",
       "    .dataframe tbody tr th {\n",
       "        vertical-align: top;\n",
       "    }\n",
       "\n",
       "    .dataframe thead th {\n",
       "        text-align: right;\n",
       "    }\n",
       "</style>\n",
       "<table border=\"1\" class=\"dataframe\">\n",
       "  <thead>\n",
       "    <tr style=\"text-align: right;\">\n",
       "      <th></th>\n",
       "      <th>Area Code</th>\n",
       "      <th>Area</th>\n",
       "      <th>Item Code</th>\n",
       "      <th>Item</th>\n",
       "      <th>Element Code</th>\n",
       "      <th>Element</th>\n",
       "      <th>Unit</th>\n",
       "      <th>Y2014</th>\n",
       "      <th>Y2015</th>\n",
       "      <th>Y2016</th>\n",
       "      <th>Y2017</th>\n",
       "      <th>Y2018</th>\n",
       "    </tr>\n",
       "  </thead>\n",
       "  <tbody>\n",
       "    <tr>\n",
       "      <th>0</th>\n",
       "      <td>4</td>\n",
       "      <td>Algeria</td>\n",
       "      <td>2501</td>\n",
       "      <td>Population</td>\n",
       "      <td>511</td>\n",
       "      <td>Total Population - Both sexes</td>\n",
       "      <td>1000 persons</td>\n",
       "      <td>38924.00</td>\n",
       "      <td>39728.00</td>\n",
       "      <td>40551.00</td>\n",
       "      <td>41389.00</td>\n",
       "      <td>42228.00</td>\n",
       "    </tr>\n",
       "    <tr>\n",
       "      <th>1</th>\n",
       "      <td>4</td>\n",
       "      <td>Algeria</td>\n",
       "      <td>2501</td>\n",
       "      <td>Population</td>\n",
       "      <td>5301</td>\n",
       "      <td>Domestic supply quantity</td>\n",
       "      <td>1000 tonnes</td>\n",
       "      <td>0.00</td>\n",
       "      <td>0.00</td>\n",
       "      <td>0.00</td>\n",
       "      <td>0.00</td>\n",
       "      <td>0.00</td>\n",
       "    </tr>\n",
       "    <tr>\n",
       "      <th>2</th>\n",
       "      <td>4</td>\n",
       "      <td>Algeria</td>\n",
       "      <td>2901</td>\n",
       "      <td>Grand Total</td>\n",
       "      <td>664</td>\n",
       "      <td>Food supply (kcal/capita/day)</td>\n",
       "      <td>kcal/capita/day</td>\n",
       "      <td>3377.00</td>\n",
       "      <td>3379.00</td>\n",
       "      <td>3372.00</td>\n",
       "      <td>3341.00</td>\n",
       "      <td>3322.00</td>\n",
       "    </tr>\n",
       "    <tr>\n",
       "      <th>3</th>\n",
       "      <td>4</td>\n",
       "      <td>Algeria</td>\n",
       "      <td>2901</td>\n",
       "      <td>Grand Total</td>\n",
       "      <td>674</td>\n",
       "      <td>Protein supply quantity (g/capita/day)</td>\n",
       "      <td>g/capita/day</td>\n",
       "      <td>94.90</td>\n",
       "      <td>94.35</td>\n",
       "      <td>94.72</td>\n",
       "      <td>92.82</td>\n",
       "      <td>91.83</td>\n",
       "    </tr>\n",
       "    <tr>\n",
       "      <th>4</th>\n",
       "      <td>4</td>\n",
       "      <td>Algeria</td>\n",
       "      <td>2901</td>\n",
       "      <td>Grand Total</td>\n",
       "      <td>684</td>\n",
       "      <td>Fat supply quantity (g/capita/day)</td>\n",
       "      <td>g/capita/day</td>\n",
       "      <td>80.06</td>\n",
       "      <td>79.36</td>\n",
       "      <td>77.40</td>\n",
       "      <td>80.19</td>\n",
       "      <td>77.28</td>\n",
       "    </tr>\n",
       "    <tr>\n",
       "      <th>...</th>\n",
       "      <td>...</td>\n",
       "      <td>...</td>\n",
       "      <td>...</td>\n",
       "      <td>...</td>\n",
       "      <td>...</td>\n",
       "      <td>...</td>\n",
       "      <td>...</td>\n",
       "      <td>...</td>\n",
       "      <td>...</td>\n",
       "      <td>...</td>\n",
       "      <td>...</td>\n",
       "      <td>...</td>\n",
       "    </tr>\n",
       "    <tr>\n",
       "      <th>60938</th>\n",
       "      <td>181</td>\n",
       "      <td>Zimbabwe</td>\n",
       "      <td>2899</td>\n",
       "      <td>Miscellaneous</td>\n",
       "      <td>5142</td>\n",
       "      <td>Food</td>\n",
       "      <td>1000 tonnes</td>\n",
       "      <td>42.00</td>\n",
       "      <td>46.00</td>\n",
       "      <td>33.00</td>\n",
       "      <td>19.00</td>\n",
       "      <td>16.00</td>\n",
       "    </tr>\n",
       "    <tr>\n",
       "      <th>60939</th>\n",
       "      <td>181</td>\n",
       "      <td>Zimbabwe</td>\n",
       "      <td>2899</td>\n",
       "      <td>Miscellaneous</td>\n",
       "      <td>645</td>\n",
       "      <td>Food supply quantity (kg/capita/yr)</td>\n",
       "      <td>kg</td>\n",
       "      <td>3.06</td>\n",
       "      <td>3.33</td>\n",
       "      <td>2.35</td>\n",
       "      <td>1.33</td>\n",
       "      <td>1.08</td>\n",
       "    </tr>\n",
       "    <tr>\n",
       "      <th>60940</th>\n",
       "      <td>181</td>\n",
       "      <td>Zimbabwe</td>\n",
       "      <td>2899</td>\n",
       "      <td>Miscellaneous</td>\n",
       "      <td>664</td>\n",
       "      <td>Food supply (kcal/capita/day)</td>\n",
       "      <td>kcal/capita/day</td>\n",
       "      <td>3.00</td>\n",
       "      <td>4.00</td>\n",
       "      <td>3.00</td>\n",
       "      <td>1.00</td>\n",
       "      <td>1.00</td>\n",
       "    </tr>\n",
       "    <tr>\n",
       "      <th>60941</th>\n",
       "      <td>181</td>\n",
       "      <td>Zimbabwe</td>\n",
       "      <td>2899</td>\n",
       "      <td>Miscellaneous</td>\n",
       "      <td>674</td>\n",
       "      <td>Protein supply quantity (g/capita/day)</td>\n",
       "      <td>g/capita/day</td>\n",
       "      <td>0.10</td>\n",
       "      <td>0.11</td>\n",
       "      <td>0.08</td>\n",
       "      <td>0.04</td>\n",
       "      <td>0.04</td>\n",
       "    </tr>\n",
       "    <tr>\n",
       "      <th>60942</th>\n",
       "      <td>181</td>\n",
       "      <td>Zimbabwe</td>\n",
       "      <td>2899</td>\n",
       "      <td>Miscellaneous</td>\n",
       "      <td>684</td>\n",
       "      <td>Fat supply quantity (g/capita/day)</td>\n",
       "      <td>g/capita/day</td>\n",
       "      <td>0.04</td>\n",
       "      <td>0.05</td>\n",
       "      <td>0.03</td>\n",
       "      <td>0.02</td>\n",
       "      <td>0.01</td>\n",
       "    </tr>\n",
       "  </tbody>\n",
       "</table>\n",
       "<p>60943 rows × 12 columns</p>\n",
       "</div>"
      ],
      "text/plain": [
       "       Area Code      Area  Item Code           Item  Element Code  \\\n",
       "0              4   Algeria       2501     Population           511   \n",
       "1              4   Algeria       2501     Population          5301   \n",
       "2              4   Algeria       2901    Grand Total           664   \n",
       "3              4   Algeria       2901    Grand Total           674   \n",
       "4              4   Algeria       2901    Grand Total           684   \n",
       "...          ...       ...        ...            ...           ...   \n",
       "60938        181  Zimbabwe       2899  Miscellaneous          5142   \n",
       "60939        181  Zimbabwe       2899  Miscellaneous           645   \n",
       "60940        181  Zimbabwe       2899  Miscellaneous           664   \n",
       "60941        181  Zimbabwe       2899  Miscellaneous           674   \n",
       "60942        181  Zimbabwe       2899  Miscellaneous           684   \n",
       "\n",
       "                                      Element             Unit     Y2014  \\\n",
       "0               Total Population - Both sexes     1000 persons  38924.00   \n",
       "1                    Domestic supply quantity      1000 tonnes      0.00   \n",
       "2               Food supply (kcal/capita/day)  kcal/capita/day   3377.00   \n",
       "3      Protein supply quantity (g/capita/day)     g/capita/day     94.90   \n",
       "4          Fat supply quantity (g/capita/day)     g/capita/day     80.06   \n",
       "...                                       ...              ...       ...   \n",
       "60938                                    Food      1000 tonnes     42.00   \n",
       "60939     Food supply quantity (kg/capita/yr)               kg      3.06   \n",
       "60940           Food supply (kcal/capita/day)  kcal/capita/day      3.00   \n",
       "60941  Protein supply quantity (g/capita/day)     g/capita/day      0.10   \n",
       "60942      Fat supply quantity (g/capita/day)     g/capita/day      0.04   \n",
       "\n",
       "          Y2015     Y2016     Y2017     Y2018  \n",
       "0      39728.00  40551.00  41389.00  42228.00  \n",
       "1          0.00      0.00      0.00      0.00  \n",
       "2       3379.00   3372.00   3341.00   3322.00  \n",
       "3         94.35     94.72     92.82     91.83  \n",
       "4         79.36     77.40     80.19     77.28  \n",
       "...         ...       ...       ...       ...  \n",
       "60938     46.00     33.00     19.00     16.00  \n",
       "60939      3.33      2.35      1.33      1.08  \n",
       "60940      4.00      3.00      1.00      1.00  \n",
       "60941      0.11      0.08      0.04      0.04  \n",
       "60942      0.05      0.03      0.02      0.01  \n",
       "\n",
       "[60943 rows x 12 columns]"
      ]
     },
     "execution_count": 2,
     "metadata": {},
     "output_type": "execute_result"
    }
   ],
   "source": [
    "df = pd.read_csv('FoodBalanceSheets_E_Africa_NOFLAG.csv', encoding = 'latin-1')\n",
    "df"
   ]
  },
  {
   "cell_type": "code",
   "execution_count": 3,
   "id": "9b140073",
   "metadata": {},
   "outputs": [],
   "source": [
    "#Mean and standard deviation df.describe()"
   ]
  },
  {
   "cell_type": "code",
   "execution_count": 4,
   "id": "db7a938f",
   "metadata": {},
   "outputs": [
    {
     "data": {
      "text/plain": [
       "(60943, 12)"
      ]
     },
     "execution_count": 4,
     "metadata": {},
     "output_type": "execute_result"
    }
   ],
   "source": [
    "df.shape"
   ]
  },
  {
   "cell_type": "code",
   "execution_count": 5,
   "id": "06cbb777",
   "metadata": {},
   "outputs": [
    {
     "name": "stdout",
     "output_type": "stream",
     "text": [
      "<class 'pandas.core.frame.DataFrame'>\n",
      "RangeIndex: 60943 entries, 0 to 60942\n",
      "Data columns (total 12 columns):\n",
      " #   Column        Non-Null Count  Dtype  \n",
      "---  ------        --------------  -----  \n",
      " 0   Area Code     60943 non-null  int64  \n",
      " 1   Area          60943 non-null  object \n",
      " 2   Item Code     60943 non-null  int64  \n",
      " 3   Item          60943 non-null  object \n",
      " 4   Element Code  60943 non-null  int64  \n",
      " 5   Element       60943 non-null  object \n",
      " 6   Unit          60943 non-null  object \n",
      " 7   Y2014         59354 non-null  float64\n",
      " 8   Y2015         59395 non-null  float64\n",
      " 9   Y2016         59408 non-null  float64\n",
      " 10  Y2017         59437 non-null  float64\n",
      " 11  Y2018         59507 non-null  float64\n",
      "dtypes: float64(5), int64(3), object(4)\n",
      "memory usage: 5.6+ MB\n"
     ]
    }
   ],
   "source": [
    "df.info()"
   ]
  },
  {
   "cell_type": "markdown",
   "id": "eb29ea0b",
   "metadata": {},
   "source": [
    "### Q5. Total Protein Supply quantity in Madagascar in 2015"
   ]
  },
  {
   "cell_type": "code",
   "execution_count": 6,
   "id": "b79186b4",
   "metadata": {},
   "outputs": [
    {
     "data": {
      "text/html": [
       "<div>\n",
       "<style scoped>\n",
       "    .dataframe tbody tr th:only-of-type {\n",
       "        vertical-align: middle;\n",
       "    }\n",
       "\n",
       "    .dataframe tbody tr th {\n",
       "        vertical-align: top;\n",
       "    }\n",
       "\n",
       "    .dataframe thead th {\n",
       "        text-align: right;\n",
       "    }\n",
       "</style>\n",
       "<table border=\"1\" class=\"dataframe\">\n",
       "  <thead>\n",
       "    <tr style=\"text-align: right;\">\n",
       "      <th></th>\n",
       "      <th>Y2015</th>\n",
       "    </tr>\n",
       "    <tr>\n",
       "      <th>Element</th>\n",
       "      <th></th>\n",
       "    </tr>\n",
       "  </thead>\n",
       "  <tbody>\n",
       "    <tr>\n",
       "      <th>Domestic supply quantity</th>\n",
       "      <td>31214.98</td>\n",
       "    </tr>\n",
       "    <tr>\n",
       "      <th>Export Quantity</th>\n",
       "      <td>494.75</td>\n",
       "    </tr>\n",
       "    <tr>\n",
       "      <th>Fat supply quantity (g/capita/day)</th>\n",
       "      <td>91.85</td>\n",
       "    </tr>\n",
       "    <tr>\n",
       "      <th>Feed</th>\n",
       "      <td>2070.22</td>\n",
       "    </tr>\n",
       "    <tr>\n",
       "      <th>Food</th>\n",
       "      <td>21120.65</td>\n",
       "    </tr>\n",
       "    <tr>\n",
       "      <th>Food supply (kcal/capita/day)</th>\n",
       "      <td>7685.00</td>\n",
       "    </tr>\n",
       "    <tr>\n",
       "      <th>Food supply quantity (kg/capita/yr)</th>\n",
       "      <td>871.59</td>\n",
       "    </tr>\n",
       "    <tr>\n",
       "      <th>Import Quantity</th>\n",
       "      <td>1721.80</td>\n",
       "    </tr>\n",
       "    <tr>\n",
       "      <th>Losses</th>\n",
       "      <td>2176.00</td>\n",
       "    </tr>\n",
       "    <tr>\n",
       "      <th>Other uses (non-food)</th>\n",
       "      <td>3957.12</td>\n",
       "    </tr>\n",
       "    <tr>\n",
       "      <th>Processing</th>\n",
       "      <td>1803.00</td>\n",
       "    </tr>\n",
       "    <tr>\n",
       "      <th>Production</th>\n",
       "      <td>29482.89</td>\n",
       "    </tr>\n",
       "    <tr>\n",
       "      <th>Protein supply quantity (g/capita/day)</th>\n",
       "      <td>173.05</td>\n",
       "    </tr>\n",
       "    <tr>\n",
       "      <th>Residuals</th>\n",
       "      <td>-616.00</td>\n",
       "    </tr>\n",
       "    <tr>\n",
       "      <th>Seed</th>\n",
       "      <td>699.00</td>\n",
       "    </tr>\n",
       "    <tr>\n",
       "      <th>Stock Variation</th>\n",
       "      <td>-505.00</td>\n",
       "    </tr>\n",
       "    <tr>\n",
       "      <th>Total Population - Both sexes</th>\n",
       "      <td>24234.00</td>\n",
       "    </tr>\n",
       "  </tbody>\n",
       "</table>\n",
       "</div>"
      ],
      "text/plain": [
       "                                           Y2015\n",
       "Element                                         \n",
       "Domestic supply quantity                31214.98\n",
       "Export Quantity                           494.75\n",
       "Fat supply quantity (g/capita/day)         91.85\n",
       "Feed                                     2070.22\n",
       "Food                                    21120.65\n",
       "Food supply (kcal/capita/day)            7685.00\n",
       "Food supply quantity (kg/capita/yr)       871.59\n",
       "Import Quantity                          1721.80\n",
       "Losses                                   2176.00\n",
       "Other uses (non-food)                    3957.12\n",
       "Processing                               1803.00\n",
       "Production                              29482.89\n",
       "Protein supply quantity (g/capita/day)    173.05\n",
       "Residuals                                -616.00\n",
       "Seed                                      699.00\n",
       "Stock Variation                          -505.00\n",
       "Total Population - Both sexes           24234.00"
      ]
     },
     "execution_count": 6,
     "metadata": {},
     "output_type": "execute_result"
    }
   ],
   "source": [
    "#Total Protein Supply quantity in Madagascar in 2015\n",
    "df[df['Area'] == 'Madagascar'][['Y2015','Element']].groupby(['Element']).sum()"
   ]
  },
  {
   "cell_type": "markdown",
   "id": "682ade4c",
   "metadata": {},
   "source": [
    "### Q6a. #Mean across the whole dataset for the year 2017 to 2 decimal places "
   ]
  },
  {
   "cell_type": "code",
   "execution_count": 7,
   "id": "98f74b0a",
   "metadata": {},
   "outputs": [
    {
     "data": {
      "text/plain": [
       "140.92"
      ]
     },
     "execution_count": 7,
     "metadata": {},
     "output_type": "execute_result"
    }
   ],
   "source": [
    "#Mean across the whole dataset for the year 2017 to 2 decimal places \n",
    "round(df['Y2017'].mean(),2)"
   ]
  },
  {
   "cell_type": "markdown",
   "id": "f51bce83",
   "metadata": {},
   "source": [
    "### Q6b. #Standard Deviation across the whole dataset for the year 2017 to 2 decimal places "
   ]
  },
  {
   "cell_type": "code",
   "execution_count": 8,
   "id": "88de173a",
   "metadata": {},
   "outputs": [
    {
     "data": {
      "text/plain": [
       "1671.86"
      ]
     },
     "execution_count": 8,
     "metadata": {},
     "output_type": "execute_result"
    }
   ],
   "source": [
    "#Standard Deviation across the whole dataset for the year 2017 to 2 decimal places \n",
    "round(df['Y2017'].std(),2)"
   ]
  },
  {
   "cell_type": "markdown",
   "id": "24ab3dd0",
   "metadata": {},
   "source": [
    "### Q7. Area with the 7th lowest sum in 2017"
   ]
  },
  {
   "cell_type": "code",
   "execution_count": 9,
   "id": "de1868e7",
   "metadata": {},
   "outputs": [
    {
     "data": {
      "text/html": [
       "<div>\n",
       "<style scoped>\n",
       "    .dataframe tbody tr th:only-of-type {\n",
       "        vertical-align: middle;\n",
       "    }\n",
       "\n",
       "    .dataframe tbody tr th {\n",
       "        vertical-align: top;\n",
       "    }\n",
       "\n",
       "    .dataframe thead th {\n",
       "        text-align: right;\n",
       "    }\n",
       "</style>\n",
       "<table border=\"1\" class=\"dataframe\">\n",
       "  <thead>\n",
       "    <tr style=\"text-align: right;\">\n",
       "      <th></th>\n",
       "      <th>Y2017</th>\n",
       "    </tr>\n",
       "    <tr>\n",
       "      <th>Area</th>\n",
       "      <th></th>\n",
       "    </tr>\n",
       "  </thead>\n",
       "  <tbody>\n",
       "    <tr>\n",
       "      <th>Guinea-Bissau</th>\n",
       "      <td>19102.77</td>\n",
       "    </tr>\n",
       "  </tbody>\n",
       "</table>\n",
       "</div>"
      ],
      "text/plain": [
       "                  Y2017\n",
       "Area                   \n",
       "Guinea-Bissau  19102.77"
      ]
     },
     "execution_count": 9,
     "metadata": {},
     "output_type": "execute_result"
    }
   ],
   "source": [
    "#Area with the 7th lowest sum in 2017\n",
    "df2 = df[['Area','Y2017']].groupby(['Area']).sum().sort_values(['Y2017'])\n",
    "df2.iloc[6:7]"
   ]
  },
  {
   "cell_type": "markdown",
   "id": "afdc5b15",
   "metadata": {},
   "source": [
    "### Q8. Year with the highest sum of Stock Variation"
   ]
  },
  {
   "cell_type": "code",
   "execution_count": 10,
   "id": "0f4dfcc1",
   "metadata": {},
   "outputs": [
    {
     "data": {
      "text/plain": [
       "Area Code         571566.00\n",
       "Item Code       11329527.00\n",
       "Element Code    21464704.00\n",
       "Y2014              58749.83\n",
       "Y2015              34910.99\n",
       "Y2016              33140.12\n",
       "Y2017              54316.91\n",
       "Y2018              20577.91\n",
       "dtype: float64"
      ]
     },
     "execution_count": 10,
     "metadata": {},
     "output_type": "execute_result"
    }
   ],
   "source": [
    "df[df['Element'] == 'Stock Variation'].groupby(['Element']).sum().max()"
   ]
  },
  {
   "cell_type": "markdown",
   "id": "c65806ab",
   "metadata": {},
   "source": [
    "### Q9a. Total number of missing data in 2014 to 3dp"
   ]
  },
  {
   "cell_type": "code",
   "execution_count": 11,
   "id": "f514ebf1",
   "metadata": {
    "scrolled": true
   },
   "outputs": [
    {
     "data": {
      "text/plain": [
       "1589"
      ]
     },
     "execution_count": 11,
     "metadata": {},
     "output_type": "execute_result"
    }
   ],
   "source": [
    "df['Y2014'].isnull().sum()"
   ]
  },
  {
   "cell_type": "markdown",
   "id": "255af3de",
   "metadata": {},
   "source": [
    "### Q9b. Percentage of missing data in 2014 to 3dp"
   ]
  },
  {
   "cell_type": "code",
   "execution_count": 12,
   "id": "33bbd8b9",
   "metadata": {},
   "outputs": [
    {
     "data": {
      "text/plain": [
       "array([2.60735441e+00, 1.32416667e+04])"
      ]
     },
     "execution_count": 12,
     "metadata": {},
     "output_type": "execute_result"
    }
   ],
   "source": [
    "df['Y2014'].isnull().sum()/df.shape*100\n"
   ]
  },
  {
   "cell_type": "markdown",
   "id": "9036b520",
   "metadata": {},
   "source": [
    "### Q11. Area with the highest sum in 2017"
   ]
  },
  {
   "cell_type": "code",
   "execution_count": 13,
   "id": "b3949944",
   "metadata": {},
   "outputs": [
    {
     "data": {
      "text/html": [
       "<div>\n",
       "<style scoped>\n",
       "    .dataframe tbody tr th:only-of-type {\n",
       "        vertical-align: middle;\n",
       "    }\n",
       "\n",
       "    .dataframe tbody tr th {\n",
       "        vertical-align: top;\n",
       "    }\n",
       "\n",
       "    .dataframe thead th {\n",
       "        text-align: right;\n",
       "    }\n",
       "</style>\n",
       "<table border=\"1\" class=\"dataframe\">\n",
       "  <thead>\n",
       "    <tr style=\"text-align: right;\">\n",
       "      <th></th>\n",
       "      <th>Y2017</th>\n",
       "    </tr>\n",
       "    <tr>\n",
       "      <th>Area</th>\n",
       "      <th></th>\n",
       "    </tr>\n",
       "  </thead>\n",
       "  <tbody>\n",
       "    <tr>\n",
       "      <th>Nigeria</th>\n",
       "      <td>1483268.23</td>\n",
       "    </tr>\n",
       "  </tbody>\n",
       "</table>\n",
       "</div>"
      ],
      "text/plain": [
       "              Y2017\n",
       "Area               \n",
       "Nigeria  1483268.23"
      ]
     },
     "execution_count": 13,
     "metadata": {},
     "output_type": "execute_result"
    }
   ],
   "source": [
    "df3 = df[['Area','Y2017']].groupby(['Area']).sum().sort_values(['Y2017'],ascending=False)\n",
    "df3.iloc[:1]"
   ]
  },
  {
   "cell_type": "markdown",
   "id": "84fe99b1",
   "metadata": {},
   "source": [
    "### Q12. Total number of unique countries in the dataset"
   ]
  },
  {
   "cell_type": "code",
   "execution_count": 14,
   "id": "604a0d84",
   "metadata": {},
   "outputs": [
    {
     "data": {
      "text/plain": [
       "49"
      ]
     },
     "execution_count": 14,
     "metadata": {},
     "output_type": "execute_result"
    }
   ],
   "source": [
    "df['Area'].nunique()"
   ]
  },
  {
   "cell_type": "markdown",
   "id": "42d2da43",
   "metadata": {},
   "source": [
    "### Q14. Total number of the sum of processing in 2017"
   ]
  },
  {
   "cell_type": "code",
   "execution_count": 15,
   "id": "db8d5c60",
   "metadata": {},
   "outputs": [
    {
     "data": {
      "text/plain": [
       "Area Code         271940.0\n",
       "Item Code        5350416.0\n",
       "Element Code    10313310.0\n",
       "Y2014             282923.0\n",
       "Y2015             287929.0\n",
       "Y2016             280631.0\n",
       "Y2017             292836.0\n",
       "Y2018             308429.0\n",
       "dtype: float64"
      ]
     },
     "execution_count": 15,
     "metadata": {},
     "output_type": "execute_result"
    }
   ],
   "source": [
    "df4 = df[df['Element'] == 'Processing'].groupby(['Element']).sum().max()\n",
    "df4"
   ]
  },
  {
   "cell_type": "markdown",
   "id": "dc90da16",
   "metadata": {},
   "source": [
    "### Q18. Which year had the least correlation with \"Element Code'?"
   ]
  },
  {
   "cell_type": "code",
   "execution_count": 16,
   "id": "0ccd8b6c",
   "metadata": {
    "scrolled": true
   },
   "outputs": [
    {
     "data": {
      "text/html": [
       "<div>\n",
       "<style scoped>\n",
       "    .dataframe tbody tr th:only-of-type {\n",
       "        vertical-align: middle;\n",
       "    }\n",
       "\n",
       "    .dataframe tbody tr th {\n",
       "        vertical-align: top;\n",
       "    }\n",
       "\n",
       "    .dataframe thead th {\n",
       "        text-align: right;\n",
       "    }\n",
       "</style>\n",
       "<table border=\"1\" class=\"dataframe\">\n",
       "  <thead>\n",
       "    <tr style=\"text-align: right;\">\n",
       "      <th></th>\n",
       "      <th>Area Code</th>\n",
       "      <th>Item Code</th>\n",
       "      <th>Element Code</th>\n",
       "      <th>Y2014</th>\n",
       "      <th>Y2015</th>\n",
       "      <th>Y2016</th>\n",
       "      <th>Y2017</th>\n",
       "      <th>Y2018</th>\n",
       "    </tr>\n",
       "  </thead>\n",
       "  <tbody>\n",
       "    <tr>\n",
       "      <th>Area Code</th>\n",
       "      <td>1.000000</td>\n",
       "      <td>-0.005159</td>\n",
       "      <td>-0.000209</td>\n",
       "      <td>0.006164</td>\n",
       "      <td>0.005472</td>\n",
       "      <td>0.005247</td>\n",
       "      <td>0.005006</td>\n",
       "      <td>0.005665</td>\n",
       "    </tr>\n",
       "    <tr>\n",
       "      <th>Item Code</th>\n",
       "      <td>-0.005159</td>\n",
       "      <td>1.000000</td>\n",
       "      <td>-0.024683</td>\n",
       "      <td>0.021722</td>\n",
       "      <td>0.020857</td>\n",
       "      <td>0.020109</td>\n",
       "      <td>0.021494</td>\n",
       "      <td>0.021314</td>\n",
       "    </tr>\n",
       "    <tr>\n",
       "      <th>Element Code</th>\n",
       "      <td>-0.000209</td>\n",
       "      <td>-0.024683</td>\n",
       "      <td>1.000000</td>\n",
       "      <td>0.024457</td>\n",
       "      <td>0.023889</td>\n",
       "      <td>0.023444</td>\n",
       "      <td>0.024254</td>\n",
       "      <td>0.024279</td>\n",
       "    </tr>\n",
       "    <tr>\n",
       "      <th>Y2014</th>\n",
       "      <td>0.006164</td>\n",
       "      <td>0.021722</td>\n",
       "      <td>0.024457</td>\n",
       "      <td>1.000000</td>\n",
       "      <td>0.994647</td>\n",
       "      <td>0.996081</td>\n",
       "      <td>0.995230</td>\n",
       "      <td>0.994872</td>\n",
       "    </tr>\n",
       "    <tr>\n",
       "      <th>Y2015</th>\n",
       "      <td>0.005472</td>\n",
       "      <td>0.020857</td>\n",
       "      <td>0.023889</td>\n",
       "      <td>0.994647</td>\n",
       "      <td>1.000000</td>\n",
       "      <td>0.995739</td>\n",
       "      <td>0.988048</td>\n",
       "      <td>0.988208</td>\n",
       "    </tr>\n",
       "    <tr>\n",
       "      <th>Y2016</th>\n",
       "      <td>0.005247</td>\n",
       "      <td>0.020109</td>\n",
       "      <td>0.023444</td>\n",
       "      <td>0.996081</td>\n",
       "      <td>0.995739</td>\n",
       "      <td>1.000000</td>\n",
       "      <td>0.992785</td>\n",
       "      <td>0.992757</td>\n",
       "    </tr>\n",
       "    <tr>\n",
       "      <th>Y2017</th>\n",
       "      <td>0.005006</td>\n",
       "      <td>0.021494</td>\n",
       "      <td>0.024254</td>\n",
       "      <td>0.995230</td>\n",
       "      <td>0.988048</td>\n",
       "      <td>0.992785</td>\n",
       "      <td>1.000000</td>\n",
       "      <td>0.998103</td>\n",
       "    </tr>\n",
       "    <tr>\n",
       "      <th>Y2018</th>\n",
       "      <td>0.005665</td>\n",
       "      <td>0.021314</td>\n",
       "      <td>0.024279</td>\n",
       "      <td>0.994872</td>\n",
       "      <td>0.988208</td>\n",
       "      <td>0.992757</td>\n",
       "      <td>0.998103</td>\n",
       "      <td>1.000000</td>\n",
       "    </tr>\n",
       "  </tbody>\n",
       "</table>\n",
       "</div>"
      ],
      "text/plain": [
       "              Area Code  Item Code  Element Code     Y2014     Y2015  \\\n",
       "Area Code      1.000000  -0.005159     -0.000209  0.006164  0.005472   \n",
       "Item Code     -0.005159   1.000000     -0.024683  0.021722  0.020857   \n",
       "Element Code  -0.000209  -0.024683      1.000000  0.024457  0.023889   \n",
       "Y2014          0.006164   0.021722      0.024457  1.000000  0.994647   \n",
       "Y2015          0.005472   0.020857      0.023889  0.994647  1.000000   \n",
       "Y2016          0.005247   0.020109      0.023444  0.996081  0.995739   \n",
       "Y2017          0.005006   0.021494      0.024254  0.995230  0.988048   \n",
       "Y2018          0.005665   0.021314      0.024279  0.994872  0.988208   \n",
       "\n",
       "                 Y2016     Y2017     Y2018  \n",
       "Area Code     0.005247  0.005006  0.005665  \n",
       "Item Code     0.020109  0.021494  0.021314  \n",
       "Element Code  0.023444  0.024254  0.024279  \n",
       "Y2014         0.996081  0.995230  0.994872  \n",
       "Y2015         0.995739  0.988048  0.988208  \n",
       "Y2016         1.000000  0.992785  0.992757  \n",
       "Y2017         0.992785  1.000000  0.998103  \n",
       "Y2018         0.992757  0.998103  1.000000  "
      ]
     },
     "execution_count": 16,
     "metadata": {},
     "output_type": "execute_result"
    }
   ],
   "source": [
    "df.corr()"
   ]
  },
  {
   "cell_type": "markdown",
   "id": "4fd3e09a",
   "metadata": {},
   "source": [
    "### Q19. Total sum of wine produced in 2015 and 2018"
   ]
  },
  {
   "cell_type": "code",
   "execution_count": 17,
   "id": "a537f303",
   "metadata": {},
   "outputs": [
    {
     "data": {
      "text/html": [
       "<div>\n",
       "<style scoped>\n",
       "    .dataframe tbody tr th:only-of-type {\n",
       "        vertical-align: middle;\n",
       "    }\n",
       "\n",
       "    .dataframe tbody tr th {\n",
       "        vertical-align: top;\n",
       "    }\n",
       "\n",
       "    .dataframe thead th {\n",
       "        text-align: right;\n",
       "    }\n",
       "</style>\n",
       "<table border=\"1\" class=\"dataframe\">\n",
       "  <thead>\n",
       "    <tr style=\"text-align: right;\">\n",
       "      <th></th>\n",
       "      <th>Area Code</th>\n",
       "      <th>Item Code</th>\n",
       "      <th>Element Code</th>\n",
       "      <th>Y2014</th>\n",
       "      <th>Y2015</th>\n",
       "      <th>Y2016</th>\n",
       "      <th>Y2017</th>\n",
       "      <th>Y2018</th>\n",
       "    </tr>\n",
       "    <tr>\n",
       "      <th>Item</th>\n",
       "      <th></th>\n",
       "      <th></th>\n",
       "      <th></th>\n",
       "      <th></th>\n",
       "      <th></th>\n",
       "      <th></th>\n",
       "      <th></th>\n",
       "      <th></th>\n",
       "    </tr>\n",
       "  </thead>\n",
       "  <tbody>\n",
       "    <tr>\n",
       "      <th>Wine</th>\n",
       "      <td>66206</td>\n",
       "      <td>1319535</td>\n",
       "      <td>1818328</td>\n",
       "      <td>4497.36</td>\n",
       "      <td>4251.81</td>\n",
       "      <td>3872.09</td>\n",
       "      <td>4178.02</td>\n",
       "      <td>4039.32</td>\n",
       "    </tr>\n",
       "  </tbody>\n",
       "</table>\n",
       "</div>"
      ],
      "text/plain": [
       "      Area Code  Item Code  Element Code    Y2014    Y2015    Y2016    Y2017  \\\n",
       "Item                                                                           \n",
       "Wine      66206    1319535       1818328  4497.36  4251.81  3872.09  4178.02   \n",
       "\n",
       "        Y2018  \n",
       "Item           \n",
       "Wine  4039.32  "
      ]
     },
     "execution_count": 17,
     "metadata": {},
     "output_type": "execute_result"
    }
   ],
   "source": [
    "df5 = df[df['Item'] == 'Wine'].groupby(['Item']).sum()\n",
    "df5"
   ]
  }
 ],
 "metadata": {
  "kernelspec": {
   "display_name": "Python 3 (ipykernel)",
   "language": "python",
   "name": "python3"
  },
  "language_info": {
   "codemirror_mode": {
    "name": "ipython",
    "version": 3
   },
   "file_extension": ".py",
   "mimetype": "text/x-python",
   "name": "python",
   "nbconvert_exporter": "python",
   "pygments_lexer": "ipython3",
   "version": "3.9.7"
  }
 },
 "nbformat": 4,
 "nbformat_minor": 5
}
